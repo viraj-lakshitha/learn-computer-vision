{
 "cells": [
  {
   "cell_type": "code",
   "execution_count": 1,
   "metadata": {},
   "outputs": [],
   "source": [
    "import numpy as np\n",
    "import cv2\n",
    "\n",
    "img = cv2.imread('./Dataset/detect_blob.png',1)\n",
    "gray = cv2.cvtColor(img, cv2.COLOR_RGB2GRAY)\n",
    "thresh = cv2.adaptiveThreshold(gray, 255, cv2.ADAPTIVE_THRESH_GAUSSIAN_C, cv2.THRESH_BINARY, 115, 1)\n",
    "cv2.imshow(\"Binary\", thresh)\n",
    "\n",
    "_, contours, hierarchy = cv2.findContours(thresh, cv2.RETR_TREE, cv2.CHAIN_APPROX_SIMPLE)\n",
    "\n",
    "img2 = img.copy()\n",
    "index = -1\n",
    "thickness = 4\n",
    "color = (255, 0, 255)\n",
    "\n",
    "# cv2.drawContours(img2, contours, index, color, thickness)\n",
    "# cv2.imshow(\"Contours\",img2)\n",
    "\n",
    "objects = np.zeros([img.shape[1],img.shape[0],3], 'unit8')\n",
    "for c in contours:\n",
    "    drawContours(objects, [c], -1, color, -1)\n",
    "    \n",
    "    area = cv2.contourArea(c)\n",
    "    peirmeter = cv.arcLength(c, True)\n",
    "    \n",
    "    M = cv2.moments(c)\n",
    "    cx = int(M['m10']/M['m00'])\n",
    "    cy = int(M['m01']/M['m00'])\n",
    "    cv2.circle(objects, (cx,xy), 4, (0,0,255), -1)\n",
    "    \n",
    "    print(\"Area: {}, Perimeter: {}\".format(area,perimeter))\n",
    "\n",
    "cv2.imshow(\"Contour\",objects)\n",
    "cv2.waitKey(0)\n",
    "cv2.destroyAllWindows()"
   ]
  }
 ],
 "metadata": {
  "kernelspec": {
   "display_name": "Python 3",
   "language": "python",
   "name": "python3"
  },
  "language_info": {
   "codemirror_mode": {
    "name": "ipython",
    "version": 3
   },
   "file_extension": ".py",
   "mimetype": "text/x-python",
   "name": "python",
   "nbconvert_exporter": "python",
   "pygments_lexer": "ipython3",
   "version": "3.8.5"
  }
 },
 "nbformat": 4,
 "nbformat_minor": 4
}
