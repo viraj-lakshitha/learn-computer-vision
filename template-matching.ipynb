{
 "cells": [
  {
   "cell_type": "code",
   "execution_count": 2,
   "metadata": {},
   "outputs": [],
   "source": [
    "import numpy as np\n",
    "import cv2"
   ]
  },
  {
   "cell_type": "code",
   "execution_count": 3,
   "metadata": {},
   "outputs": [],
   "source": [
    "template = cv2.imread(\"./Dataset/template.jpg\",0) # Read Image as BW\n",
    "cv2.imshow(\"Template\",template)\n",
    "\n",
    "cv2.waitKey(0)\n",
    "cv2.destroyAllWindows()"
   ]
  },
  {
   "cell_type": "code",
   "execution_count": 5,
   "metadata": {},
   "outputs": [],
   "source": [
    "frame = cv2.imread(\"./Dataset/players.jpg\",0) # Read Image as BW\n",
    "cv2.imshow(\"Template\",frame)\n",
    "\n",
    "cv2.waitKey(0)\n",
    "cv2.destroyAllWindows()"
   ]
  },
  {
   "cell_type": "code",
   "execution_count": 8,
   "metadata": {},
   "outputs": [
    {
     "name": "stdout",
     "output_type": "stream",
     "text": [
      "(132, 243) (109, 91)\n"
     ]
    },
    {
     "data": {
      "text/plain": [
       "array([[ 2.7458301e-01,  2.8331456e-01,  2.9312998e-01, ...,\n",
       "         3.6224470e-01,  3.5135868e-01,  3.4277099e-01],\n",
       "       [ 2.5352365e-01,  2.6275048e-01,  2.7304694e-01, ...,\n",
       "         3.8522682e-01,  3.7562835e-01,  3.6796626e-01],\n",
       "       [ 2.3026282e-01,  2.3940445e-01,  2.4935333e-01, ...,\n",
       "         4.0121159e-01,  3.9319783e-01,  3.8657221e-01],\n",
       "       ...,\n",
       "       [-2.5822140e-02, -5.9451684e-02, -7.1086794e-02, ...,\n",
       "        -4.0824264e-02, -3.5762873e-02, -3.8921274e-02],\n",
       "       [ 5.9962450e-03, -2.6507717e-02, -4.3161660e-02, ...,\n",
       "        -1.1330241e-02,  1.6756177e-04, -6.9067604e-03],\n",
       "       [ 3.4162700e-02,  3.5986614e-03, -9.7680427e-03, ...,\n",
       "         1.6514452e-02,  2.8737996e-02,  2.4141276e-02]], dtype=float32)"
      ]
     },
     "execution_count": 8,
     "metadata": {},
     "output_type": "execute_result"
    }
   ],
   "source": [
    "result = cv2.matchTemplate(frame, template, cv2.TM_CCOEFF_NORMED)\n",
    "min_val, max_val, min_loc, max_loc = cv2.minMaxLoc(result)\n",
    "print(max_loc, min_loc)\n",
    "\n",
    "cv2.circle(result,max_loc, 12, 255, 2)"
   ]
  },
  {
   "cell_type": "code",
   "execution_count": null,
   "metadata": {},
   "outputs": [],
   "source": [
    "cv2.imshow(\"Matching\",result)\n",
    "\n",
    "cv2.waitKey(0)\n",
    "cv2.destroyAllWindows()"
   ]
  },
  {
   "cell_type": "code",
   "execution_count": null,
   "metadata": {},
   "outputs": [],
   "source": []
  }
 ],
 "metadata": {
  "kernelspec": {
   "display_name": "Python 3",
   "language": "python",
   "name": "python3"
  },
  "language_info": {
   "codemirror_mode": {
    "name": "ipython",
    "version": 3
   },
   "file_extension": ".py",
   "mimetype": "text/x-python",
   "name": "python",
   "nbconvert_exporter": "python",
   "pygments_lexer": "ipython3",
   "version": "3.8.5"
  }
 },
 "nbformat": 4,
 "nbformat_minor": 4
}
